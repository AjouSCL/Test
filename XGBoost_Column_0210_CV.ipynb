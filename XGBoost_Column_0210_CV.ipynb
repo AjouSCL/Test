{
 "cells": [
  {
   "cell_type": "code",
   "execution_count": 12,
   "id": "502e46a7",
   "metadata": {},
   "outputs": [],
   "source": [
    "# Import Libraries \n",
    "\n",
    "import xgboost as xgb\n",
    "from xgboost import plot_importance\n",
    "from xgboost import XGBRegressor\n",
    "from xgboost import plot_importance\n",
    "\n",
    "\n",
    "import pandas as pd\n",
    "import numpy as np\n",
    "\n",
    "from sklearn.model_selection import train_test_split\n",
    "from sklearn.model_selection import GridSearchCV\n",
    "from sklearn.model_selection import RandomizedSearchCV\n"
   ]
  },
  {
   "cell_type": "code",
   "execution_count": 13,
   "id": "75d8e0c7",
   "metadata": {},
   "outputs": [
    {
     "data": {
      "text/html": [
       "<div>\n",
       "<style scoped>\n",
       "    .dataframe tbody tr th:only-of-type {\n",
       "        vertical-align: middle;\n",
       "    }\n",
       "\n",
       "    .dataframe tbody tr th {\n",
       "        vertical-align: top;\n",
       "    }\n",
       "\n",
       "    .dataframe thead th {\n",
       "        text-align: right;\n",
       "    }\n",
       "</style>\n",
       "<table border=\"1\" class=\"dataframe\">\n",
       "  <thead>\n",
       "    <tr style=\"text-align: right;\">\n",
       "      <th></th>\n",
       "      <th>Bldg_Id</th>\n",
       "      <th>Bldg_Year</th>\n",
       "      <th>Bldg_Region</th>\n",
       "      <th>Bldg_Usage</th>\n",
       "      <th>Bldg_Sp_Floors</th>\n",
       "      <th>Bldg_Sb_Floors</th>\n",
       "      <th>Bldg_Gross_Area</th>\n",
       "      <th>Bldg_St_Type</th>\n",
       "      <th>Bldg_Height</th>\n",
       "      <th>Bldg_Conc</th>\n",
       "      <th>...</th>\n",
       "      <th>Fn_Depth</th>\n",
       "      <th>Fn_Material</th>\n",
       "      <th>Fn_Insullation</th>\n",
       "      <th>E_Span</th>\n",
       "      <th>W_Span</th>\n",
       "      <th>N_Span</th>\n",
       "      <th>S_Span</th>\n",
       "      <th>Prmtr</th>\n",
       "      <th>St_Width</th>\n",
       "      <th>St_Depth</th>\n",
       "    </tr>\n",
       "  </thead>\n",
       "  <tbody>\n",
       "    <tr>\n",
       "      <th>0</th>\n",
       "      <td>1</td>\n",
       "      <td>2015.0</td>\n",
       "      <td>2</td>\n",
       "      <td>1</td>\n",
       "      <td>6</td>\n",
       "      <td>1</td>\n",
       "      <td>896.91</td>\n",
       "      <td>1</td>\n",
       "      <td>20.2</td>\n",
       "      <td>1.0</td>\n",
       "      <td>...</td>\n",
       "      <td>450.0</td>\n",
       "      <td>NaN</td>\n",
       "      <td>NaN</td>\n",
       "      <td>7.275</td>\n",
       "      <td>0.000</td>\n",
       "      <td>0.0</td>\n",
       "      <td>5.10</td>\n",
       "      <td>1</td>\n",
       "      <td>900</td>\n",
       "      <td>400</td>\n",
       "    </tr>\n",
       "    <tr>\n",
       "      <th>1</th>\n",
       "      <td>1</td>\n",
       "      <td>2015.0</td>\n",
       "      <td>2</td>\n",
       "      <td>1</td>\n",
       "      <td>6</td>\n",
       "      <td>1</td>\n",
       "      <td>896.91</td>\n",
       "      <td>1</td>\n",
       "      <td>20.2</td>\n",
       "      <td>1.0</td>\n",
       "      <td>...</td>\n",
       "      <td>400.0</td>\n",
       "      <td>NaN</td>\n",
       "      <td>0.0</td>\n",
       "      <td>0.000</td>\n",
       "      <td>7.275</td>\n",
       "      <td>0.0</td>\n",
       "      <td>0.00</td>\n",
       "      <td>1</td>\n",
       "      <td>1400</td>\n",
       "      <td>400</td>\n",
       "    </tr>\n",
       "    <tr>\n",
       "      <th>2</th>\n",
       "      <td>1</td>\n",
       "      <td>2015.0</td>\n",
       "      <td>2</td>\n",
       "      <td>1</td>\n",
       "      <td>6</td>\n",
       "      <td>1</td>\n",
       "      <td>896.91</td>\n",
       "      <td>1</td>\n",
       "      <td>20.2</td>\n",
       "      <td>1.0</td>\n",
       "      <td>...</td>\n",
       "      <td>900.0</td>\n",
       "      <td>0.0</td>\n",
       "      <td>0.0</td>\n",
       "      <td>6.125</td>\n",
       "      <td>0.000</td>\n",
       "      <td>5.1</td>\n",
       "      <td>0.00</td>\n",
       "      <td>0</td>\n",
       "      <td>400</td>\n",
       "      <td>900</td>\n",
       "    </tr>\n",
       "    <tr>\n",
       "      <th>3</th>\n",
       "      <td>1</td>\n",
       "      <td>2015.0</td>\n",
       "      <td>2</td>\n",
       "      <td>1</td>\n",
       "      <td>6</td>\n",
       "      <td>1</td>\n",
       "      <td>896.91</td>\n",
       "      <td>1</td>\n",
       "      <td>20.2</td>\n",
       "      <td>1.0</td>\n",
       "      <td>...</td>\n",
       "      <td>400.0</td>\n",
       "      <td>0.0</td>\n",
       "      <td>0.0</td>\n",
       "      <td>3.000</td>\n",
       "      <td>6.125</td>\n",
       "      <td>0.0</td>\n",
       "      <td>4.55</td>\n",
       "      <td>0</td>\n",
       "      <td>600</td>\n",
       "      <td>400</td>\n",
       "    </tr>\n",
       "    <tr>\n",
       "      <th>4</th>\n",
       "      <td>1</td>\n",
       "      <td>2015.0</td>\n",
       "      <td>2</td>\n",
       "      <td>1</td>\n",
       "      <td>6</td>\n",
       "      <td>1</td>\n",
       "      <td>896.91</td>\n",
       "      <td>1</td>\n",
       "      <td>20.2</td>\n",
       "      <td>1.0</td>\n",
       "      <td>...</td>\n",
       "      <td>400.0</td>\n",
       "      <td>0.0</td>\n",
       "      <td>0.0</td>\n",
       "      <td>0.000</td>\n",
       "      <td>3.000</td>\n",
       "      <td>0.0</td>\n",
       "      <td>0.00</td>\n",
       "      <td>1</td>\n",
       "      <td>675</td>\n",
       "      <td>400</td>\n",
       "    </tr>\n",
       "  </tbody>\n",
       "</table>\n",
       "<p>5 rows × 30 columns</p>\n",
       "</div>"
      ],
      "text/plain": [
       "   Bldg_Id  Bldg_Year  Bldg_Region  Bldg_Usage  Bldg_Sp_Floors  \\\n",
       "0        1     2015.0            2           1               6   \n",
       "1        1     2015.0            2           1               6   \n",
       "2        1     2015.0            2           1               6   \n",
       "3        1     2015.0            2           1               6   \n",
       "4        1     2015.0            2           1               6   \n",
       "\n",
       "   Bldg_Sb_Floors  Bldg_Gross_Area  Bldg_St_Type  Bldg_Height  Bldg_Conc  ...  \\\n",
       "0               1           896.91             1         20.2        1.0  ...   \n",
       "1               1           896.91             1         20.2        1.0  ...   \n",
       "2               1           896.91             1         20.2        1.0  ...   \n",
       "3               1           896.91             1         20.2        1.0  ...   \n",
       "4               1           896.91             1         20.2        1.0  ...   \n",
       "\n",
       "   Fn_Depth  Fn_Material  Fn_Insullation  E_Span  W_Span  N_Span  S_Span  \\\n",
       "0     450.0          NaN             NaN   7.275   0.000     0.0    5.10   \n",
       "1     400.0          NaN             0.0   0.000   7.275     0.0    0.00   \n",
       "2     900.0          0.0             0.0   6.125   0.000     5.1    0.00   \n",
       "3     400.0          0.0             0.0   3.000   6.125     0.0    4.55   \n",
       "4     400.0          0.0             0.0   0.000   3.000     0.0    0.00   \n",
       "\n",
       "   Prmtr  St_Width  St_Depth  \n",
       "0      1       900       400  \n",
       "1      1      1400       400  \n",
       "2      0       400       900  \n",
       "3      0       600       400  \n",
       "4      1       675       400  \n",
       "\n",
       "[5 rows x 30 columns]"
      ]
     },
     "execution_count": 13,
     "metadata": {},
     "output_type": "execute_result"
    }
   ],
   "source": [
    "# Read the excel data file\n",
    "dataset = pd.read_excel(\"./decisiontree_data.xlsx\",sheet_name=\"Column\")\n",
    "dataset = dataset.drop([\"Col_ID\",\"Bldg_Steel\"],axis=1)\n",
    "dataset.head()\n"
   ]
  },
  {
   "cell_type": "code",
   "execution_count": 14,
   "id": "064cea59",
   "metadata": {},
   "outputs": [],
   "source": [
    "# Define an MAPE function\n",
    "def mape(actual, pred): \n",
    "    actual, pred = np.array(actual), np.array(pred)\n",
    "    return np.mean(np.abs((actual - pred) / actual)) * 100"
   ]
  },
  {
   "cell_type": "code",
   "execution_count": 7,
   "id": "3bcea10a",
   "metadata": {},
   "outputs": [
    {
     "name": "stdout",
     "output_type": "stream",
     "text": [
      "Fitting 5 folds for each of 100 candidates, totalling 500 fits\n",
      "Best prameters fournd: {'subsample': 0.7999999999999999, 'reg_lambda': 0.2, 'reg_alpha': 0.9, 'n_estimators': 750, 'min_child_weight': 1, 'max_depth': 6, 'learning_rate': 0.14, 'gamma': 0.4, 'colsample_bytree': 0.8999999999999999}\n",
      "Lowest RMSE foud:  3.3635664227062816\n",
      "Complete building: 1\n",
      "Fitting 5 folds for each of 100 candidates, totalling 500 fits\n",
      "Best prameters fournd: {'subsample': 0.7999999999999999, 'reg_lambda': 0.2, 'reg_alpha': 0.9, 'n_estimators': 750, 'min_child_weight': 1, 'max_depth': 6, 'learning_rate': 0.14, 'gamma': 0.4, 'colsample_bytree': 0.8999999999999999}\n",
      "Lowest RMSE foud:  3.134302466834081\n",
      "Complete building: 2\n",
      "Fitting 5 folds for each of 100 candidates, totalling 500 fits\n",
      "Best prameters fournd: {'subsample': 0.7999999999999999, 'reg_lambda': 0.4, 'reg_alpha': 0.2, 'n_estimators': 300, 'min_child_weight': 1, 'max_depth': 9, 'learning_rate': 0.14, 'gamma': 0.2, 'colsample_bytree': 0.8999999999999999}\n",
      "Lowest RMSE foud:  3.2304965202023253\n",
      "Complete building: 3\n",
      "Fitting 5 folds for each of 100 candidates, totalling 500 fits\n",
      "Best prameters fournd: {'subsample': 0.6, 'reg_lambda': 0.6000000000000001, 'reg_alpha': 0.2, 'n_estimators': 900, 'min_child_weight': 1, 'max_depth': 4, 'learning_rate': 0.05, 'gamma': 0.0, 'colsample_bytree': 0.7999999999999999}\n",
      "Lowest RMSE foud:  3.542553145523687\n",
      "Complete building: 4\n",
      "Fitting 5 folds for each of 100 candidates, totalling 500 fits\n",
      "Best prameters fournd: {'subsample': 0.8999999999999999, 'reg_lambda': 0.4, 'reg_alpha': 0.6000000000000001, 'n_estimators': 650, 'min_child_weight': 9, 'max_depth': 5, 'learning_rate': 0.09999999999999999, 'gamma': 0.30000000000000004, 'colsample_bytree': 0.8999999999999999}\n",
      "Lowest RMSE foud:  3.344423682880798\n",
      "Complete building: 5\n",
      "Fitting 5 folds for each of 100 candidates, totalling 500 fits\n",
      "Best prameters fournd: {'subsample': 0.7999999999999999, 'reg_lambda': 0.4, 'reg_alpha': 0.2, 'n_estimators': 300, 'min_child_weight': 1, 'max_depth': 9, 'learning_rate': 0.14, 'gamma': 0.2, 'colsample_bytree': 0.8999999999999999}\n",
      "Lowest RMSE foud:  3.4051889547841796\n",
      "Complete building: 6\n",
      "Fitting 5 folds for each of 100 candidates, totalling 500 fits\n",
      "Best prameters fournd: {'subsample': 0.8999999999999999, 'reg_lambda': 0.4, 'reg_alpha': 0.6000000000000001, 'n_estimators': 650, 'min_child_weight': 9, 'max_depth': 5, 'learning_rate': 0.09999999999999999, 'gamma': 0.30000000000000004, 'colsample_bytree': 0.8999999999999999}\n",
      "Lowest RMSE foud:  3.0207859124837277\n",
      "Complete building: 7\n",
      "Fitting 5 folds for each of 100 candidates, totalling 500 fits\n",
      "Best prameters fournd: {'subsample': 0.7999999999999999, 'reg_lambda': 0.2, 'reg_alpha': 0.9, 'n_estimators': 750, 'min_child_weight': 1, 'max_depth': 6, 'learning_rate': 0.14, 'gamma': 0.4, 'colsample_bytree': 0.8999999999999999}\n",
      "Lowest RMSE foud:  3.1299072228150258\n",
      "Complete building: 8\n",
      "Fitting 5 folds for each of 100 candidates, totalling 500 fits\n",
      "Best prameters fournd: {'subsample': 0.6, 'reg_lambda': 0.6000000000000001, 'reg_alpha': 0.2, 'n_estimators': 900, 'min_child_weight': 1, 'max_depth': 4, 'learning_rate': 0.05, 'gamma': 0.0, 'colsample_bytree': 0.7999999999999999}\n",
      "Lowest RMSE foud:  2.811337191899335\n",
      "Complete building: 9\n",
      "Fitting 5 folds for each of 100 candidates, totalling 500 fits\n",
      "Best prameters fournd: {'subsample': 0.7999999999999999, 'reg_lambda': 0.4, 'reg_alpha': 0.2, 'n_estimators': 300, 'min_child_weight': 1, 'max_depth': 9, 'learning_rate': 0.14, 'gamma': 0.2, 'colsample_bytree': 0.8999999999999999}\n",
      "Lowest RMSE foud:  3.079595216028733\n",
      "Complete building: 10\n",
      "Fitting 5 folds for each of 100 candidates, totalling 500 fits\n",
      "Best prameters fournd: {'subsample': 0.8999999999999999, 'reg_lambda': 0.4, 'reg_alpha': 0.6000000000000001, 'n_estimators': 650, 'min_child_weight': 9, 'max_depth': 5, 'learning_rate': 0.09999999999999999, 'gamma': 0.30000000000000004, 'colsample_bytree': 0.8999999999999999}\n",
      "Lowest RMSE foud:  3.246913293284441\n",
      "Complete building: 11\n",
      "Fitting 5 folds for each of 100 candidates, totalling 500 fits\n",
      "Best prameters fournd: {'subsample': 0.7999999999999999, 'reg_lambda': 0.2, 'reg_alpha': 0.9, 'n_estimators': 750, 'min_child_weight': 1, 'max_depth': 6, 'learning_rate': 0.14, 'gamma': 0.4, 'colsample_bytree': 0.8999999999999999}\n",
      "Lowest RMSE foud:  3.456832122803736\n",
      "Complete building: 12\n",
      "Fitting 5 folds for each of 100 candidates, totalling 500 fits\n",
      "Best prameters fournd: {'subsample': 0.7999999999999999, 'reg_lambda': 0.2, 'reg_alpha': 0.9, 'n_estimators': 750, 'min_child_weight': 1, 'max_depth': 6, 'learning_rate': 0.14, 'gamma': 0.4, 'colsample_bytree': 0.8999999999999999}\n",
      "Lowest RMSE foud:  3.257019901430497\n",
      "Complete building: 13\n",
      "Fitting 5 folds for each of 100 candidates, totalling 500 fits\n",
      "Best prameters fournd: {'subsample': 0.6, 'reg_lambda': 0.6000000000000001, 'reg_alpha': 0.2, 'n_estimators': 900, 'min_child_weight': 1, 'max_depth': 4, 'learning_rate': 0.05, 'gamma': 0.0, 'colsample_bytree': 0.7999999999999999}\n",
      "Lowest RMSE foud:  3.3827730221835264\n",
      "Complete building: 14\n",
      "Fitting 5 folds for each of 100 candidates, totalling 500 fits\n",
      "Best prameters fournd: {'subsample': 0.7, 'reg_lambda': 0.2, 'reg_alpha': 0.7000000000000001, 'n_estimators': 850, 'min_child_weight': 5, 'max_depth': 3, 'learning_rate': 0.09999999999999999, 'gamma': 0.4, 'colsample_bytree': 0.8999999999999999}\n",
      "Lowest RMSE foud:  3.476911662950537\n",
      "Complete building: 15\n",
      "Fitting 5 folds for each of 100 candidates, totalling 500 fits\n",
      "Best prameters fournd: {'subsample': 0.8999999999999999, 'reg_lambda': 0.4, 'reg_alpha': 0.6000000000000001, 'n_estimators': 650, 'min_child_weight': 9, 'max_depth': 5, 'learning_rate': 0.09999999999999999, 'gamma': 0.30000000000000004, 'colsample_bytree': 0.8999999999999999}\n",
      "Lowest RMSE foud:  3.105807696159696\n",
      "Complete building: 16\n",
      "Fitting 5 folds for each of 100 candidates, totalling 500 fits\n",
      "Best prameters fournd: {'subsample': 0.7999999999999999, 'reg_lambda': 0.2, 'reg_alpha': 0.9, 'n_estimators': 750, 'min_child_weight': 1, 'max_depth': 6, 'learning_rate': 0.14, 'gamma': 0.4, 'colsample_bytree': 0.8999999999999999}\n",
      "Lowest RMSE foud:  2.8398271973131455\n",
      "Complete building: 17\n",
      "Fitting 5 folds for each of 100 candidates, totalling 500 fits\n",
      "Best prameters fournd: {'subsample': 0.7, 'reg_lambda': 0.2, 'reg_alpha': 0.7000000000000001, 'n_estimators': 850, 'min_child_weight': 5, 'max_depth': 3, 'learning_rate': 0.09999999999999999, 'gamma': 0.4, 'colsample_bytree': 0.8999999999999999}\n",
      "Lowest RMSE foud:  3.2678830448260205\n",
      "Complete building: 18\n",
      "Fitting 5 folds for each of 100 candidates, totalling 500 fits\n",
      "Best prameters fournd: {'subsample': 0.8999999999999999, 'reg_lambda': 0.4, 'reg_alpha': 0.6000000000000001, 'n_estimators': 650, 'min_child_weight': 9, 'max_depth': 5, 'learning_rate': 0.09999999999999999, 'gamma': 0.30000000000000004, 'colsample_bytree': 0.8999999999999999}\n",
      "Lowest RMSE foud:  3.786810508293317\n",
      "Complete building: 19\n",
      "Fitting 5 folds for each of 100 candidates, totalling 500 fits\n",
      "Best prameters fournd: {'subsample': 0.7999999999999999, 'reg_lambda': 0.2, 'reg_alpha': 0.9, 'n_estimators': 750, 'min_child_weight': 1, 'max_depth': 6, 'learning_rate': 0.14, 'gamma': 0.4, 'colsample_bytree': 0.8999999999999999}\n",
      "Lowest RMSE foud:  3.4965404206037305\n",
      "Complete building: 20\n"
     ]
    }
   ],
   "source": [
    "# Develop machine learning models for each of buildings and calculate the mape \n",
    "\n",
    "building_id = np.arange(1,21,1)\n",
    "train_mape_list = []\n",
    "test_mape_list = []\n",
    "y_test_list = []\n",
    "\n",
    "for i in building_id:\n",
    "    \n",
    "    from xgboost import XGBRegressor\n",
    "\n",
    "    df_1_Ltest = dataset[dataset[\"Bldg_Id\"]==i]\n",
    "    df_1_train = dataset[dataset[\"Bldg_Id\"]!=i]\n",
    "\n",
    "    # Remove the columns of Building Id and structural width (Structural depth model)\n",
    "\n",
    "    df_1_train = df_1_train.drop([\"Bldg_Id\", \"St_Width\"], axis = 1)\n",
    "    df_1_Ltest = df_1_Ltest.drop([\"Bldg_Id\", \"St_Width\"], axis = 1)\n",
    "    \n",
    "    Y1 = df_1_train['St_Depth']\n",
    "    X1 = df_1_train.drop([\"St_Depth\"],axis=1)\n",
    "    \n",
    "    x1_train, x1_test, y1_train, y1_test = train_test_split(X1.values, Y1.values, test_size=0.2, random_state=1234)\n",
    "\n",
    "    param_grid = {\n",
    "    'learning_rate': np.arange(0.01, 0.3, 0.01),\n",
    "    'n_estimators': np.arange(50, 1000, 50),\n",
    "    'max_depth': np.arange(3, 10, 1),\n",
    "    'min_child_weight': np.arange(1, 10, 1),\n",
    "    'gamma': np.arange(0, 0.5, 0.1),\n",
    "    'subsample': np.arange(0.5, 1.0, 0.1),\n",
    "    'colsample_bytree': np.arange(0.5, 1.0, 0.1),\n",
    "    'reg_lambda': np.arange(0, 1, 0.1),\n",
    "    'reg_alpha': np.arange(0, 1, 0.1)}   \n",
    "    \n",
    "    #xgb_model = xgb.XGBRegressor(tree_method = 'gpu_hist', gpu_id = 0) #GPU \n",
    "    xgb_model = xgb.XGBRegressor(tree_method = 'hist') #CPU \n",
    "\n",
    "    \n",
    "    \n",
    "    random_search = RandomizedSearchCV(xgb_model, param_distributions=param_grid, n_iter=100, cv=5, verbose=1, scoring='neg_mean_absolute_error', random_state=1234)\n",
    "    random_search.fit(x1_train, y1_train)\n",
    "    \n",
    "    print(\"Best prameters fournd:\", random_search.best_params_)\n",
    "    print(\"Lowest RMSE foud: \", np.sqrt(np.abs(random_search.best_score_)))\n",
    "    \n",
    "    model = random_search.best_estimator_\n",
    "    y1_pred = model.predict(x1_test)\n",
    "    \n",
    "    train_mape = mape(y1_test, y1_pred)\n",
    "    train_mape_list.append(train_mape)\n",
    "    \n",
    "    Y1_Ltetst = df_1_Ltest['St_Depth']\n",
    "    X1_Ltest = df_1_Ltest.drop([\"St_Depth\"], axis=1)   \n",
    "    \n",
    "    y1_pred_Ltest = model.predict(X1_Ltest)\n",
    "    test_mape = mape(Y1_Ltetst, y1_pred_Ltest)\n",
    "    \n",
    "    test_mape_list.append(test_mape)\n",
    "    y_test_list.append(y1_pred_Ltest)\n",
    "    \n",
    "    print(\"Complete building: {}\".format (i))\n",
    "    "
   ]
  },
  {
   "cell_type": "code",
   "execution_count": 8,
   "id": "50b090a9",
   "metadata": {},
   "outputs": [
    {
     "name": "stdout",
     "output_type": "stream",
     "text": [
      "1.1775329897125186\n"
     ]
    }
   ],
   "source": [
    "mean = sum(train_mape_list) / len(train_mape_list)\n",
    "print(mean)\n"
   ]
  },
  {
   "cell_type": "code",
   "execution_count": 9,
   "id": "b26e9085",
   "metadata": {},
   "outputs": [
    {
     "name": "stdout",
     "output_type": "stream",
     "text": [
      "13.993601349025113\n"
     ]
    }
   ],
   "source": [
    "mean = sum(test_mape_list) / len(test_mape_list)\n",
    "print(mean)\n"
   ]
  },
  {
   "cell_type": "code",
   "execution_count": 11,
   "id": "7564d039",
   "metadata": {},
   "outputs": [
    {
     "data": {
      "text/plain": [
       "[8.263840423233209,\n",
       " 16.90132431030273,\n",
       " 10.684255981445311,\n",
       " 36.42574098618976,\n",
       " 14.017051696777342,\n",
       " 7.444644029809052,\n",
       " 28.120697844521864,\n",
       " 15.337347507476807,\n",
       " 11.224530854293603,\n",
       " 2.9323350320130714,\n",
       " 0.8921386718750001,\n",
       " 7.3862168375651045,\n",
       " 25.128428293158393,\n",
       " 7.876961473105612,\n",
       " 24.71090316061648,\n",
       " 11.571175379534953,\n",
       " 17.770651499430336,\n",
       " 1.9405980682373043,\n",
       " 26.567755574965286,\n",
       " 4.675429355951002]"
      ]
     },
     "execution_count": 11,
     "metadata": {},
     "output_type": "execute_result"
    }
   ],
   "source": [
    "test_mape_list"
   ]
  },
  {
   "cell_type": "code",
   "execution_count": 10,
   "id": "df872e3b",
   "metadata": {},
   "outputs": [
    {
     "data": {
      "text/plain": [
       "72.90349308325705"
      ]
     },
     "execution_count": 10,
     "metadata": {},
     "output_type": "execute_result"
    }
   ],
   "source": [
    "# MAPE for all data \n",
    "\n",
    "y_test_result = np.concatenate(y_test_list)\n",
    "\n",
    "y_actual = np.array(dataset[\"St_Depth\"])\n",
    "\n",
    "mape(y_actual, y_test_result)"
   ]
  },
  {
   "cell_type": "code",
   "execution_count": 9,
   "id": "f6c12f67",
   "metadata": {},
   "outputs": [],
   "source": [
    "dataset[\"Predicted_Depth\"] = y_test_result"
   ]
  },
  {
   "cell_type": "code",
   "execution_count": 16,
   "id": "dabfd0a2",
   "metadata": {},
   "outputs": [
    {
     "name": "stdout",
     "output_type": "stream",
     "text": [
      "Fitting 5 folds for each of 100 candidates, totalling 500 fits\n",
      "Best prameters fournd: {'subsample': 0.8999999999999999, 'reg_lambda': 0.0, 'reg_alpha': 0.0, 'n_estimators': 350, 'min_child_weight': 1, 'max_depth': 6, 'learning_rate': 0.15000000000000002, 'gamma': 0.30000000000000004, 'colsample_bytree': 0.7}\n",
      "Lowest RMSE foud:  1.8706722183805247\n",
      "Complete building: 1\n",
      "Fitting 5 folds for each of 100 candidates, totalling 500 fits\n",
      "Best prameters fournd: {'subsample': 0.8999999999999999, 'reg_lambda': 0.0, 'reg_alpha': 0.0, 'n_estimators': 350, 'min_child_weight': 1, 'max_depth': 6, 'learning_rate': 0.15000000000000002, 'gamma': 0.30000000000000004, 'colsample_bytree': 0.7}\n",
      "Lowest RMSE foud:  2.171117008464033\n",
      "Complete building: 2\n",
      "Fitting 5 folds for each of 100 candidates, totalling 500 fits\n",
      "Best prameters fournd: {'subsample': 0.8999999999999999, 'reg_lambda': 0.0, 'reg_alpha': 0.0, 'n_estimators': 350, 'min_child_weight': 1, 'max_depth': 6, 'learning_rate': 0.15000000000000002, 'gamma': 0.30000000000000004, 'colsample_bytree': 0.7}\n",
      "Lowest RMSE foud:  2.332377638006381\n",
      "Complete building: 3\n",
      "Fitting 5 folds for each of 100 candidates, totalling 500 fits\n",
      "Best prameters fournd: {'subsample': 0.8999999999999999, 'reg_lambda': 0.0, 'reg_alpha': 0.0, 'n_estimators': 350, 'min_child_weight': 1, 'max_depth': 6, 'learning_rate': 0.15000000000000002, 'gamma': 0.30000000000000004, 'colsample_bytree': 0.7}\n",
      "Lowest RMSE foud:  2.54399286810399\n",
      "Complete building: 4\n",
      "Fitting 5 folds for each of 100 candidates, totalling 500 fits\n",
      "Best prameters fournd: {'subsample': 0.7999999999999999, 'reg_lambda': 0.1, 'reg_alpha': 0.7000000000000001, 'n_estimators': 250, 'min_child_weight': 1, 'max_depth': 8, 'learning_rate': 0.21000000000000002, 'gamma': 0.4, 'colsample_bytree': 0.7999999999999999}\n",
      "Lowest RMSE foud:  2.0909876886125462\n",
      "Complete building: 5\n",
      "Fitting 5 folds for each of 100 candidates, totalling 500 fits\n",
      "Best prameters fournd: {'subsample': 0.7999999999999999, 'reg_lambda': 0.4, 'reg_alpha': 0.2, 'n_estimators': 300, 'min_child_weight': 1, 'max_depth': 9, 'learning_rate': 0.14, 'gamma': 0.2, 'colsample_bytree': 0.8999999999999999}\n",
      "Lowest RMSE foud:  1.9348484816173455\n",
      "Complete building: 6\n",
      "Fitting 5 folds for each of 100 candidates, totalling 500 fits\n",
      "Best prameters fournd: {'subsample': 0.7999999999999999, 'reg_lambda': 0.2, 'reg_alpha': 0.9, 'n_estimators': 750, 'min_child_weight': 1, 'max_depth': 6, 'learning_rate': 0.14, 'gamma': 0.4, 'colsample_bytree': 0.8999999999999999}\n",
      "Lowest RMSE foud:  2.062592936358623\n",
      "Complete building: 7\n",
      "Fitting 5 folds for each of 100 candidates, totalling 500 fits\n",
      "Best prameters fournd: {'subsample': 0.7999999999999999, 'reg_lambda': 0.1, 'reg_alpha': 0.7000000000000001, 'n_estimators': 250, 'min_child_weight': 1, 'max_depth': 8, 'learning_rate': 0.21000000000000002, 'gamma': 0.4, 'colsample_bytree': 0.7999999999999999}\n",
      "Lowest RMSE foud:  2.3624837262262703\n",
      "Complete building: 8\n",
      "Fitting 5 folds for each of 100 candidates, totalling 500 fits\n",
      "Best prameters fournd: {'subsample': 0.7999999999999999, 'reg_lambda': 0.4, 'reg_alpha': 0.2, 'n_estimators': 300, 'min_child_weight': 1, 'max_depth': 9, 'learning_rate': 0.14, 'gamma': 0.2, 'colsample_bytree': 0.8999999999999999}\n",
      "Lowest RMSE foud:  2.313337855791581\n",
      "Complete building: 9\n",
      "Fitting 5 folds for each of 100 candidates, totalling 500 fits\n",
      "Best prameters fournd: {'subsample': 0.7999999999999999, 'reg_lambda': 0.1, 'reg_alpha': 0.7000000000000001, 'n_estimators': 250, 'min_child_weight': 1, 'max_depth': 8, 'learning_rate': 0.21000000000000002, 'gamma': 0.4, 'colsample_bytree': 0.7999999999999999}\n",
      "Lowest RMSE foud:  2.1599225825597728\n",
      "Complete building: 10\n",
      "Fitting 5 folds for each of 100 candidates, totalling 500 fits\n",
      "Best prameters fournd: {'subsample': 0.7999999999999999, 'reg_lambda': 0.1, 'reg_alpha': 0.7000000000000001, 'n_estimators': 250, 'min_child_weight': 1, 'max_depth': 8, 'learning_rate': 0.21000000000000002, 'gamma': 0.4, 'colsample_bytree': 0.7999999999999999}\n",
      "Lowest RMSE foud:  1.9354922703676614\n",
      "Complete building: 11\n",
      "Fitting 5 folds for each of 100 candidates, totalling 500 fits\n",
      "Best prameters fournd: {'subsample': 0.7999999999999999, 'reg_lambda': 0.4, 'reg_alpha': 0.2, 'n_estimators': 300, 'min_child_weight': 1, 'max_depth': 9, 'learning_rate': 0.14, 'gamma': 0.2, 'colsample_bytree': 0.8999999999999999}\n",
      "Lowest RMSE foud:  2.2752516309907524\n",
      "Complete building: 12\n",
      "Fitting 5 folds for each of 100 candidates, totalling 500 fits\n",
      "Best prameters fournd: {'subsample': 0.8999999999999999, 'reg_lambda': 0.0, 'reg_alpha': 0.0, 'n_estimators': 350, 'min_child_weight': 1, 'max_depth': 6, 'learning_rate': 0.15000000000000002, 'gamma': 0.30000000000000004, 'colsample_bytree': 0.7}\n",
      "Lowest RMSE foud:  2.405490279544964\n",
      "Complete building: 13\n",
      "Fitting 5 folds for each of 100 candidates, totalling 500 fits\n",
      "Best prameters fournd: {'subsample': 0.7999999999999999, 'reg_lambda': 0.4, 'reg_alpha': 0.2, 'n_estimators': 300, 'min_child_weight': 1, 'max_depth': 9, 'learning_rate': 0.14, 'gamma': 0.2, 'colsample_bytree': 0.8999999999999999}\n",
      "Lowest RMSE foud:  2.1250155871520238\n",
      "Complete building: 14\n",
      "Fitting 5 folds for each of 100 candidates, totalling 500 fits\n",
      "Best prameters fournd: {'subsample': 0.8999999999999999, 'reg_lambda': 0.0, 'reg_alpha': 0.0, 'n_estimators': 350, 'min_child_weight': 1, 'max_depth': 6, 'learning_rate': 0.15000000000000002, 'gamma': 0.30000000000000004, 'colsample_bytree': 0.7}\n",
      "Lowest RMSE foud:  2.0281785731252127\n",
      "Complete building: 15\n",
      "Fitting 5 folds for each of 100 candidates, totalling 500 fits\n",
      "Best prameters fournd: {'subsample': 0.7999999999999999, 'reg_lambda': 0.4, 'reg_alpha': 0.2, 'n_estimators': 300, 'min_child_weight': 1, 'max_depth': 9, 'learning_rate': 0.14, 'gamma': 0.2, 'colsample_bytree': 0.8999999999999999}\n",
      "Lowest RMSE foud:  1.9628795069850609\n",
      "Complete building: 16\n",
      "Fitting 5 folds for each of 100 candidates, totalling 500 fits\n",
      "Best prameters fournd: {'subsample': 0.7999999999999999, 'reg_lambda': 0.4, 'reg_alpha': 0.2, 'n_estimators': 300, 'min_child_weight': 1, 'max_depth': 9, 'learning_rate': 0.14, 'gamma': 0.2, 'colsample_bytree': 0.8999999999999999}\n",
      "Lowest RMSE foud:  2.251537081007995\n",
      "Complete building: 17\n",
      "Fitting 5 folds for each of 100 candidates, totalling 500 fits\n",
      "Best prameters fournd: {'subsample': 0.7999999999999999, 'reg_lambda': 0.1, 'reg_alpha': 0.7000000000000001, 'n_estimators': 250, 'min_child_weight': 1, 'max_depth': 8, 'learning_rate': 0.21000000000000002, 'gamma': 0.4, 'colsample_bytree': 0.7999999999999999}\n",
      "Lowest RMSE foud:  2.17055926658988\n",
      "Complete building: 18\n",
      "Fitting 5 folds for each of 100 candidates, totalling 500 fits\n",
      "Best prameters fournd: {'subsample': 0.7999999999999999, 'reg_lambda': 0.1, 'reg_alpha': 0.7000000000000001, 'n_estimators': 250, 'min_child_weight': 1, 'max_depth': 8, 'learning_rate': 0.21000000000000002, 'gamma': 0.4, 'colsample_bytree': 0.7999999999999999}\n",
      "Lowest RMSE foud:  2.2428585509668024\n",
      "Complete building: 19\n",
      "Fitting 5 folds for each of 100 candidates, totalling 500 fits\n",
      "Best prameters fournd: {'subsample': 0.7999999999999999, 'reg_lambda': 0.2, 'reg_alpha': 0.6000000000000001, 'n_estimators': 250, 'min_child_weight': 1, 'max_depth': 9, 'learning_rate': 0.09999999999999999, 'gamma': 0.2, 'colsample_bytree': 0.7}\n",
      "Lowest RMSE foud:  2.2508736907980786\n",
      "Complete building: 20\n"
     ]
    }
   ],
   "source": [
    "# Develop machine learning models for each of buildings and calculate the mape \n",
    "\n",
    "building_id = np.arange(1,21,1)\n",
    "train_width_mape_list = []\n",
    "test_width_mape_list = []\n",
    "y_width_test_list = []\n",
    "\n",
    "for i in building_id:\n",
    "    \n",
    "    from xgboost import XGBRegressor\n",
    "\n",
    "    df_1_width_Ltest = dataset[dataset[\"Bldg_Id\"]==i]\n",
    "    df_1_width_train = dataset[dataset[\"Bldg_Id\"]!=i]\n",
    "\n",
    "    # Remove the columns of Building Id and structural width (Structural depth model)\n",
    "\n",
    "    df_1_width_train = df_1_width_train.drop([\"Bldg_Id\", \"St_Depth\"], axis = 1)\n",
    "    #df_1_width_train = df_1_width_train.drop([\"Predicted_Depth\"], axis = 1)\n",
    "\n",
    "    df_1_width_Ltest = df_1_width_Ltest.drop([\"Bldg_Id\", \"St_Depth\"], axis = 1)\n",
    "    #df_1_width_Ltest = df_1_width_Ltest.drop([\"Predicted_Depth\"], axis = 1)\n",
    "    \n",
    "    Y1_width = df_1_width_train['St_Width']\n",
    "    X1_width = df_1_width_train.drop([\"St_Width\"],axis=1)\n",
    "    \n",
    "    x1_train_width, x1_test_width, y1_train_width, y1_test_width = train_test_split(X1_width.values, Y1_width.values, test_size=0.2, random_state=1234)\n",
    "\n",
    "    param_grid = {\n",
    "    'learning_rate': np.arange(0.01, 0.3, 0.01),\n",
    "    'n_estimators': np.arange(50, 1000, 50),\n",
    "    'max_depth': np.arange(3, 10, 1),\n",
    "    'min_child_weight': np.arange(1, 10, 1),\n",
    "    'gamma': np.arange(0, 0.5, 0.1),\n",
    "    'subsample': np.arange(0.5, 1.0, 0.1),\n",
    "    'colsample_bytree': np.arange(0.5, 1.0, 0.1),\n",
    "    'reg_lambda': np.arange(0, 1, 0.1),\n",
    "    'reg_alpha': np.arange(0, 1, 0.1)}   \n",
    "    \n",
    "    #xgb_model = xgb.XGBRegressor(tree_method = 'gpu_hist', gpu_id = 0) #GPU \n",
    "    xgb_model = xgb.XGBRegressor(tree_method = 'hist') #CPU \n",
    "\n",
    "    \n",
    "    \n",
    "    random_search = RandomizedSearchCV(xgb_model, param_distributions=param_grid, n_iter=100, cv=5, verbose=1, scoring='neg_mean_absolute_error', random_state=1234)\n",
    "    random_search.fit(x1_train_width, y1_train_width)\n",
    "    \n",
    "    print(\"Best prameters fournd:\", random_search.best_params_)\n",
    "    print(\"Lowest RMSE foud: \", np.sqrt(np.abs(random_search.best_score_)))\n",
    "    \n",
    "    model_width = random_search.best_estimator_\n",
    "    y1_pred_width = model_width.predict(x1_test_width)\n",
    "    \n",
    "    train_width_mape = mape(y1_test_width, y1_pred_width)\n",
    "    train_width_mape_list.append(train_width_mape)\n",
    "    \n",
    "    Y1_width_Ltetst = df_1_width_Ltest['St_Width']\n",
    "    X1_width_Ltest = df_1_width_Ltest.drop([\"St_Width\"], axis=1)   \n",
    "    \n",
    "    y1_width_pred_Ltest = model_width.predict(X1_width_Ltest)\n",
    "    test_width_mape = mape(Y1_width_Ltetst, y1_width_pred_Ltest)\n",
    "    \n",
    "    test_width_mape_list.append(test_width_mape)\n",
    "    y_width_test_list.append(y1_width_pred_Ltest)\n",
    "    \n",
    "    print(\"Complete building: {}\".format (i))\n",
    "    "
   ]
  },
  {
   "cell_type": "code",
   "execution_count": 17,
   "id": "b403e1f3",
   "metadata": {},
   "outputs": [
    {
     "name": "stdout",
     "output_type": "stream",
     "text": [
      "0.9316899878354337\n"
     ]
    }
   ],
   "source": [
    "mean = sum(train_width_mape_list) / len(train_width_mape_list)\n",
    "print(mean)\n"
   ]
  },
  {
   "cell_type": "code",
   "execution_count": 18,
   "id": "8ec5a5b7",
   "metadata": {},
   "outputs": [
    {
     "name": "stdout",
     "output_type": "stream",
     "text": [
      "12.316478227357132\n"
     ]
    }
   ],
   "source": [
    "mean = sum(test_width_mape_list) / len(test_width_mape_list)\n",
    "print(mean)\n"
   ]
  },
  {
   "cell_type": "code",
   "execution_count": 19,
   "id": "4f61ce82",
   "metadata": {},
   "outputs": [
    {
     "data": {
      "text/plain": [
       "[10.7940096591559,\n",
       " 14.960580444335935,\n",
       " 7.166184997558594,\n",
       " 12.088909843232896,\n",
       " 10.958074781629774,\n",
       " 14.207507959175935,\n",
       " 21.19236531799093,\n",
       " 12.59148063659668,\n",
       " 12.321748807832792,\n",
       " 11.385302365481198,\n",
       " 15.998330010308162,\n",
       " 8.48283973330543,\n",
       " 2.7721573043655563,\n",
       " 10.041062396505607,\n",
       " 20.29912559714623,\n",
       " 11.54594211952359,\n",
       " 26.346965365939674,\n",
       " 2.0008240509033204,\n",
       " 13.265330502089636,\n",
       " 7.910822654064792]"
      ]
     },
     "execution_count": 19,
     "metadata": {},
     "output_type": "execute_result"
    }
   ],
   "source": [
    "test_width_mape_list"
   ]
  },
  {
   "cell_type": "code",
   "execution_count": 20,
   "id": "a449bddf",
   "metadata": {},
   "outputs": [
    {
     "data": {
      "text/plain": [
       "43.756208246322316"
      ]
     },
     "execution_count": 20,
     "metadata": {},
     "output_type": "execute_result"
    }
   ],
   "source": [
    "# MAPE for all data \n",
    "\n",
    "y_test_result_width = np.concatenate(y_width_test_list)\n",
    "\n",
    "y_actual = np.array(dataset[\"St_Depth\"])\n",
    "\n",
    "mape(y_actual, y_test_result_width)"
   ]
  },
  {
   "cell_type": "code",
   "execution_count": null,
   "id": "306059f9",
   "metadata": {},
   "outputs": [],
   "source": [
    "dataset[\"Predicted_Width\"] = y_test_result_width"
   ]
  },
  {
   "cell_type": "code",
   "execution_count": 10,
   "id": "f9de7a7e",
   "metadata": {},
   "outputs": [],
   "source": [
    "dataset.to_excel('Column_Prediction.xlsx', index=False)"
   ]
  },
  {
   "cell_type": "code",
   "execution_count": 11,
   "id": "eee9524c",
   "metadata": {},
   "outputs": [
    {
     "data": {
      "text/plain": [
       "<AxesSubplot: xlabel='Feature'>"
      ]
     },
     "execution_count": 11,
     "metadata": {},
     "output_type": "execute_result"
    },
    {
     "data": {
      "image/png": "[encoded data removed]",
      "text/plain": [
       "<Figure size 1000x600 with 1 Axes>"
      ]
     },
     "metadata": {},
     "output_type": "display_data"
    }
   ],
   "source": [
    "\n",
    "# Get the feature importance scores\n",
    "scores = model.get_booster().get_score(importance_type='weight')\n",
    "\n",
    "# Create a Pandas DataFrame with the scores\n",
    "scores_df = pd.DataFrame(list(scores.items()), columns=['Feature', 'Score'])\n",
    "scores_df['Feature']= X1.columns\n",
    "\n",
    "# Plot the feature importance scores\n",
    "scores_df.plot(x='Feature', y='Score', kind='bar', figsize=(10, 6))\n"
   ]
  },
  {
   "cell_type": "code",
   "execution_count": null,
   "id": "998187ea",
   "metadata": {},
   "outputs": [],
   "source": []
  }
 ],
 "metadata": {
  "kernelspec": {
   "display_name": "Digital_Safety",
   "language": "python",
   "name": "python3"
  },
  "language_info": {
   "codemirror_mode": {
    "name": "ipython",
    "version": 3
   },
   "file_extension": ".py",
   "mimetype": "text/x-python",
   "name": "python",
   "nbconvert_exporter": "python",
   "pygments_lexer": "ipython3",
   "version": "3.9.16"
  },
  "vscode": {
   "interpreter": {
    "hash": "576a4c92f1b6ab8d00edae58553b9584068b0f0596af0b23830cd892c3e65f02"
   }
  }
 },
 "nbformat": 4,
 "nbformat_minor": 5
}
